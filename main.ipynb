{
 "cells": [
  {
   "cell_type": "code",
   "execution_count": 1,
   "id": "b5a11ac7",
   "metadata": {},
   "outputs": [],
   "source": [
    "import pandas as pd\n",
    "import numpy as np\n",
    "import matplotlib.pyplot as plt\n",
    "\n",
    "from src.model.data import __version__\n",
    "\n",
    "from sklearn.model_selection import train_test_split\n",
    "from sklearn.linear_model import LogisticRegression\n",
    "from sklearn.metrics import accuracy_score, f1_score\n",
    "\n",
    "from src.base import logger\n",
    "from src.config import get_config\n",
    "from src.model.data import make_dataset\n",
    "from src.model.features import build_features\n",
    "from src.model.preprocessing import PreProcessor\n",
    "\n",
    "from sklearn.ensemble import RandomForestClassifier, GradientBoostingRegressor\n",
    "\n",
    "#from xgboost import XGBClassifier\n",
    "\n",
    "\n",
    "pd.options.display.max_columns = None\n",
    "\n",
    "%config IPCompleter.use_jedi=False"
   ]
  },
  {
   "cell_type": "code",
   "execution_count": 42,
   "id": "f3916122",
   "metadata": {},
   "outputs": [],
   "source": [
    "data_config = get_config(filename=\"config/model.yaml\")\n",
    "\n",
    "features_config = get_config(filename=\"config/features.yaml\")\n",
    "\n",
    "data  = make_dataset(data_config, download_bases=False)\n",
    "\n",
    "X,y = build_features(data)\n",
    "\n",
    "X_train, X_test, y_train, y_test = train_test_split(X,y,test_size=0.25, random_state=42)\n",
    "\n",
    "preprocessor = PreProcessor(features_config)\n",
    "\n",
    "preprocessor.fit(X_train)\n",
    "\n",
    "X_train = preprocessor.transform(X_train)\n",
    "\n",
    "X_test = preprocessor.transform(X_test)"
   ]
  },
  {
   "cell_type": "code",
   "execution_count": 43,
   "id": "867921ef",
   "metadata": {},
   "outputs": [
    {
     "data": {
      "text/html": [
       "<div>\n",
       "<style scoped>\n",
       "    .dataframe tbody tr th:only-of-type {\n",
       "        vertical-align: middle;\n",
       "    }\n",
       "\n",
       "    .dataframe tbody tr th {\n",
       "        vertical-align: top;\n",
       "    }\n",
       "\n",
       "    .dataframe thead th {\n",
       "        text-align: right;\n",
       "    }\n",
       "</style>\n",
       "<table border=\"1\" class=\"dataframe\">\n",
       "  <thead>\n",
       "    <tr style=\"text-align: right;\">\n",
       "      <th></th>\n",
       "      <th>n_parking_spaces</th>\n",
       "      <th>y</th>\n",
       "    </tr>\n",
       "  </thead>\n",
       "  <tbody>\n",
       "    <tr>\n",
       "      <th>n_parking_spaces</th>\n",
       "      <td>1.000000</td>\n",
       "      <td>0.524207</td>\n",
       "    </tr>\n",
       "    <tr>\n",
       "      <th>y</th>\n",
       "      <td>0.524207</td>\n",
       "      <td>1.000000</td>\n",
       "    </tr>\n",
       "  </tbody>\n",
       "</table>\n",
       "</div>"
      ],
      "text/plain": [
       "                  n_parking_spaces         y\n",
       "n_parking_spaces          1.000000  0.524207\n",
       "y                         0.524207  1.000000"
      ]
     },
     "execution_count": 43,
     "metadata": {},
     "output_type": "execute_result"
    }
   ],
   "source": [
    "data_train = X_train.assign(y=y_train)\n",
    "\n",
    "data_train.corr()"
   ]
  },
  {
   "cell_type": "code",
   "execution_count": 9,
   "id": "9c10a044",
   "metadata": {},
   "outputs": [
    {
     "data": {
      "text/plain": [
       "array([[1.        , 0.42672042],\n",
       "       [0.42672042, 1.        ]])"
      ]
     },
     "execution_count": 9,
     "metadata": {},
     "output_type": "execute_result"
    }
   ],
   "source": [
    "np.corrcoef(X_train['n_parking_spaces'], y_train)"
   ]
  },
  {
   "cell_type": "code",
   "execution_count": 11,
   "id": "6ae6d174",
   "metadata": {},
   "outputs": [
    {
     "data": {
      "text/plain": [
       "array([[1.        , 0.42600328],\n",
       "       [0.42600328, 1.        ]])"
      ]
     },
     "execution_count": 11,
     "metadata": {},
     "output_type": "execute_result"
    }
   ],
   "source": [
    "np.corrcoef(np.log10(1+X_train['n_parking_spaces']), y_train)"
   ]
  },
  {
   "cell_type": "code",
   "execution_count": 6,
   "id": "2f959687",
   "metadata": {},
   "outputs": [
    {
     "data": {
      "image/png": "[encoded data removed]",
      "text/plain": [
       "<Figure size 432x288 with 1 Axes>"
      ]
     },
     "metadata": {
      "needs_background": "light"
     },
     "output_type": "display_data"
    }
   ],
   "source": [
    "plt.scatter(X_train['n_parking_spaces'], y_train)\n",
    "\n",
    "plt.show()"
   ]
  },
  {
   "cell_type": "code",
   "execution_count": 28,
   "id": "f4e5259d",
   "metadata": {},
   "outputs": [
    {
     "data": {
      "text/plain": [
       "<AxesSubplot:>"
      ]
     },
     "execution_count": 28,
     "metadata": {},
     "output_type": "execute_result"
    },
    {
     "data": {
      "image/png": "[encoded data removed]",
      "text/plain": [
       "<Figure size 432x288 with 1 Axes>"
      ]
     },
     "metadata": {
      "needs_background": "light"
     },
     "output_type": "display_data"
    }
   ],
   "source": [
    "X_train['n_parking_spaces'].hist(bins=50)"
   ]
  },
  {
   "cell_type": "code",
   "execution_count": 12,
   "id": "7f0774e8",
   "metadata": {},
   "outputs": [
    {
     "data": {
      "image/png": "[encoded data removed]",
      "text/plain": [
       "<Figure size 432x288 with 1 Axes>"
      ]
     },
     "metadata": {
      "needs_background": "light"
     },
     "output_type": "display_data"
    }
   ],
   "source": [
    "np.log10(y[y>0]).hist(bins=100)\n",
    "\n",
    "plt.show()"
   ]
  },
  {
   "cell_type": "code",
   "execution_count": 8,
   "id": "7e14ba09",
   "metadata": {},
   "outputs": [
    {
     "data": {
      "text/plain": [
       "0.68"
      ]
     },
     "execution_count": 8,
     "metadata": {},
     "output_type": "execute_result"
    }
   ],
   "source": [
    "# data_config = get_config(filename=\"config/model.yaml\")\n",
    "\n",
    "# features_config = get_config(filename=\"config/features.yaml\")\n",
    "\n",
    "# X,y  = make_dataset(data_config, download_bases=False)\n",
    "\n",
    "# X,y = build_features(X, y)\n",
    "\n",
    "# X_train, X_test, y_train, y_test = train_test_split(X,y,stratify=y, test_size=0.25, random_state=42)\n",
    "\n",
    "# preprocessor = PreProcessor(features_config)\n",
    "\n",
    "# preprocessor.fit(X_train)\n",
    "\n",
    "# X_train = preprocessor.transform(X_train)\n",
    "\n",
    "# X_test = preprocessor.transform(X_test)\n",
    "\n",
    "# classifier = LogisticRegression(C=5)\n",
    "\n",
    "# classifier.fit(X_train, y_train)\n",
    "\n",
    "# classifier.predict_proba(X_test)[:,1]\n",
    "\n",
    "# accuracy_score(y_test,classifier.predict(X_test))"
   ]
  },
  {
   "cell_type": "code",
   "execution_count": 9,
   "id": "a051b1ab",
   "metadata": {},
   "outputs": [],
   "source": [
    "from dotenv import load_dotenv\n",
    "import psycopg2\n",
    "import os\n",
    "from sqlalchemy import create_engine\n",
    "import pandas as pd\n",
    "import numpy as np\n",
    "assert load_dotenv()\n",
    "\n",
    "engine = create_engine(\n",
    "    \"postgresql://{user}:{password}@{host}:{port}/{database}\".format(\n",
    "        user=os.getenv(\"DB_USERNAME\"),\n",
    "        password=os.getenv(\"DB_PASSWORD\"),\n",
    "        host=os.getenv(\"DB_HOST\"),\n",
    "        port=os.getenv(\"DB_PORT\"),\n",
    "        database=os.getenv(\"DB_NAME\"),\n",
    "    )\n",
    ")\n",
    "\n",
    "# amenities = pd.read_sql(\"\"\"\n",
    "# with tab as (\n",
    "#     select *  from pocos_de_caldas.imoveis i limit 100\n",
    "# )\n",
    "# select search_id, jsonb_array_elements(amenities) as amenity, price from tab t\n",
    "# \"\"\", engine)\n",
    "\n",
    "# pois = pd.read_sql(\"\"\"\n",
    "# with tab as (\n",
    "#     select *  from pocos_de_caldas.imoveis i limit 100\n",
    "# )\n",
    "# select search_id, jsonb_array_elements(pois_list) as pois, price from tab t\n",
    "# \"\"\", engine)"
   ]
  },
  {
   "cell_type": "code",
   "execution_count": 10,
   "id": "6036fcdd",
   "metadata": {},
   "outputs": [],
   "source": [
    "from basix.parquet import write as to_parquet"
   ]
  },
  {
   "cell_type": "code",
   "execution_count": 10,
   "id": "951c0783",
   "metadata": {},
   "outputs": [],
   "source": [
    "df = pd.read_sql(\"\"\"\n",
    "    select\n",
    "        id\n",
    "        , search_id\n",
    "        , search_date \n",
    "        , id_zap\n",
    "        , type\n",
    "        , jsonb_array_elements(amenities) as amenity\n",
    "        , price\n",
    "    from pocos_de_caldas.imoveis\n",
    "\"\"\", engine)\n",
    "\n",
    "# df['search_date'] = df['search_date'].dt.date\n",
    "\n",
    "# to_parquet(df, \"data/raw/\", overwrite=True, partition_cols = [\"search_date\"] )\n",
    "\n"
   ]
  },
  {
   "cell_type": "code",
   "execution_count": 11,
   "id": "babcfa2f",
   "metadata": {},
   "outputs": [
    {
     "data": {
      "text/html": [
       "<div>\n",
       "<style scoped>\n",
       "    .dataframe tbody tr th:only-of-type {\n",
       "        vertical-align: middle;\n",
       "    }\n",
       "\n",
       "    .dataframe tbody tr th {\n",
       "        vertical-align: top;\n",
       "    }\n",
       "\n",
       "    .dataframe thead th {\n",
       "        text-align: right;\n",
       "    }\n",
       "</style>\n",
       "<table border=\"1\" class=\"dataframe\">\n",
       "  <thead>\n",
       "    <tr style=\"text-align: right;\">\n",
       "      <th></th>\n",
       "      <th>id</th>\n",
       "      <th>search_id</th>\n",
       "      <th>search_date</th>\n",
       "      <th>id_zap</th>\n",
       "      <th>type</th>\n",
       "      <th>amenity</th>\n",
       "      <th>price</th>\n",
       "    </tr>\n",
       "  </thead>\n",
       "  <tbody>\n",
       "    <tr>\n",
       "      <th>0</th>\n",
       "      <td>2</td>\n",
       "      <td>2462358530__2021_06_04_00_23_37</td>\n",
       "      <td>2021-06-04</td>\n",
       "      <td>2462358530</td>\n",
       "      <td>APARTMENT</td>\n",
       "      <td>GATED_COMMUNITY</td>\n",
       "      <td>950000.0</td>\n",
       "    </tr>\n",
       "    <tr>\n",
       "      <th>1</th>\n",
       "      <td>2</td>\n",
       "      <td>2462358530__2021_06_04_00_23_37</td>\n",
       "      <td>2021-06-04</td>\n",
       "      <td>2462358530</td>\n",
       "      <td>APARTMENT</td>\n",
       "      <td>ELEVATOR</td>\n",
       "      <td>950000.0</td>\n",
       "    </tr>\n",
       "    <tr>\n",
       "      <th>2</th>\n",
       "      <td>2</td>\n",
       "      <td>2462358530__2021_06_04_00_23_37</td>\n",
       "      <td>2021-06-04</td>\n",
       "      <td>2462358530</td>\n",
       "      <td>APARTMENT</td>\n",
       "      <td>SERVICE_AREA</td>\n",
       "      <td>950000.0</td>\n",
       "    </tr>\n",
       "    <tr>\n",
       "      <th>3</th>\n",
       "      <td>2</td>\n",
       "      <td>2462358530__2021_06_04_00_23_37</td>\n",
       "      <td>2021-06-04</td>\n",
       "      <td>2462358530</td>\n",
       "      <td>APARTMENT</td>\n",
       "      <td>BALCONY</td>\n",
       "      <td>950000.0</td>\n",
       "    </tr>\n",
       "    <tr>\n",
       "      <th>4</th>\n",
       "      <td>2</td>\n",
       "      <td>2462358530__2021_06_04_00_23_37</td>\n",
       "      <td>2021-06-04</td>\n",
       "      <td>2462358530</td>\n",
       "      <td>APARTMENT</td>\n",
       "      <td>MOUNTAIN_VIEW</td>\n",
       "      <td>950000.0</td>\n",
       "    </tr>\n",
       "    <tr>\n",
       "      <th>...</th>\n",
       "      <td>...</td>\n",
       "      <td>...</td>\n",
       "      <td>...</td>\n",
       "      <td>...</td>\n",
       "      <td>...</td>\n",
       "      <td>...</td>\n",
       "      <td>...</td>\n",
       "    </tr>\n",
       "    <tr>\n",
       "      <th>132651</th>\n",
       "      <td>46392</td>\n",
       "      <td>2565495224__2022_06_04_12_51_15</td>\n",
       "      <td>2022-06-04</td>\n",
       "      <td>2565495224</td>\n",
       "      <td>HOME</td>\n",
       "      <td>KITCHEN</td>\n",
       "      <td>2250000.0</td>\n",
       "    </tr>\n",
       "    <tr>\n",
       "      <th>132652</th>\n",
       "      <td>46392</td>\n",
       "      <td>2565495224__2022_06_04_12_51_15</td>\n",
       "      <td>2022-06-04</td>\n",
       "      <td>2565495224</td>\n",
       "      <td>HOME</td>\n",
       "      <td>POOL</td>\n",
       "      <td>2250000.0</td>\n",
       "    </tr>\n",
       "    <tr>\n",
       "      <th>132653</th>\n",
       "      <td>46392</td>\n",
       "      <td>2565495224__2022_06_04_12_51_15</td>\n",
       "      <td>2022-06-04</td>\n",
       "      <td>2565495224</td>\n",
       "      <td>HOME</td>\n",
       "      <td>BACKYARD</td>\n",
       "      <td>2250000.0</td>\n",
       "    </tr>\n",
       "    <tr>\n",
       "      <th>132654</th>\n",
       "      <td>46392</td>\n",
       "      <td>2565495224__2022_06_04_12_51_15</td>\n",
       "      <td>2022-06-04</td>\n",
       "      <td>2565495224</td>\n",
       "      <td>HOME</td>\n",
       "      <td>SERVICE_AREA</td>\n",
       "      <td>2250000.0</td>\n",
       "    </tr>\n",
       "    <tr>\n",
       "      <th>132655</th>\n",
       "      <td>46393</td>\n",
       "      <td>2560058845__2022_06_04_12_51_15</td>\n",
       "      <td>2022-06-04</td>\n",
       "      <td>2560058845</td>\n",
       "      <td>FARM</td>\n",
       "      <td></td>\n",
       "      <td>1600000.0</td>\n",
       "    </tr>\n",
       "  </tbody>\n",
       "</table>\n",
       "<p>132656 rows × 7 columns</p>\n",
       "</div>"
      ],
      "text/plain": [
       "           id                        search_id search_date      id_zap  \\\n",
       "0           2  2462358530__2021_06_04_00_23_37  2021-06-04  2462358530   \n",
       "1           2  2462358530__2021_06_04_00_23_37  2021-06-04  2462358530   \n",
       "2           2  2462358530__2021_06_04_00_23_37  2021-06-04  2462358530   \n",
       "3           2  2462358530__2021_06_04_00_23_37  2021-06-04  2462358530   \n",
       "4           2  2462358530__2021_06_04_00_23_37  2021-06-04  2462358530   \n",
       "...       ...                              ...         ...         ...   \n",
       "132651  46392  2565495224__2022_06_04_12_51_15  2022-06-04  2565495224   \n",
       "132652  46392  2565495224__2022_06_04_12_51_15  2022-06-04  2565495224   \n",
       "132653  46392  2565495224__2022_06_04_12_51_15  2022-06-04  2565495224   \n",
       "132654  46392  2565495224__2022_06_04_12_51_15  2022-06-04  2565495224   \n",
       "132655  46393  2560058845__2022_06_04_12_51_15  2022-06-04  2560058845   \n",
       "\n",
       "             type          amenity      price  \n",
       "0       APARTMENT  GATED_COMMUNITY   950000.0  \n",
       "1       APARTMENT         ELEVATOR   950000.0  \n",
       "2       APARTMENT     SERVICE_AREA   950000.0  \n",
       "3       APARTMENT          BALCONY   950000.0  \n",
       "4       APARTMENT    MOUNTAIN_VIEW   950000.0  \n",
       "...           ...              ...        ...  \n",
       "132651       HOME          KITCHEN  2250000.0  \n",
       "132652       HOME             POOL  2250000.0  \n",
       "132653       HOME         BACKYARD  2250000.0  \n",
       "132654       HOME     SERVICE_AREA  2250000.0  \n",
       "132655       FARM                   1600000.0  \n",
       "\n",
       "[132656 rows x 7 columns]"
      ]
     },
     "execution_count": 11,
     "metadata": {},
     "output_type": "execute_result"
    }
   ],
   "source": [
    "df"
   ]
  },
  {
   "cell_type": "code",
   "execution_count": 20,
   "id": "81747591",
   "metadata": {},
   "outputs": [],
   "source": []
  }
 ],
 "metadata": {
  "interpreter": {
   "hash": "2a66e0c56d789c230fac538f43433541fc3df6620181aeda48c5242848d8e4da"
  },
  "kernelspec": {
   "display_name": "Python 3.8.13 ('venv': venv)",
   "language": "python",
   "name": "python3"
  },
  "language_info": {
   "codemirror_mode": {
    "name": "ipython",
    "version": 3
   },
   "file_extension": ".py",
   "mimetype": "text/x-python",
   "name": "python",
   "nbconvert_exporter": "python",
   "pygments_lexer": "ipython3",
   "version": "3.8.13"
  }
 },
 "nbformat": 4,
 "nbformat_minor": 5
}
