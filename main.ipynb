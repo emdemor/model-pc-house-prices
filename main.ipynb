{
 "cells": [
  {
   "cell_type": "markdown",
   "id": "ea752b22",
   "metadata": {},
   "source": [
    "# To-Do - List\n",
    "1. Condomínio"
   ]
  },
  {
   "cell_type": "code",
   "execution_count": 1,
   "id": "319797fa",
   "metadata": {},
   "outputs": [],
   "source": [
    "import pandas as pd\n",
    "import numpy as np\n",
    "import matplotlib.pyplot as plt\n",
    "\n",
    "from app.preprocess import train_preprocessor\n",
    "from app.regression import train_regressor\n",
    "from app.optimization import optimize_regressor\n",
    "\n",
    "from src.model.preprocessing import get_preprocessor\n",
    "from src.model.regressor import get_regressor\n",
    "\n",
    "from src.base.commons import dump_json, load_json, dump_yaml, load_yaml, load_pickle\n",
    "from src.optimizer import gaussian_process_optimization"
   ]
  },
  {
   "cell_type": "code",
   "execution_count": 2,
   "id": "6231c899",
   "metadata": {},
   "outputs": [
    {
     "name": "stderr",
     "output_type": "stream",
     "text": [
      "2022-06-19 11:25:02,620 [INFO] FUNCTION: train_preprocessor\n",
      "2022-06-19 11:25:02,625 [INFO] Getting information from yamls\n",
      "2022-06-19 11:25:02,669 [INFO] Contructing datasets from raw database\n",
      "2022-06-19 11:25:03,723 [INFO] Building features\n",
      "2022-06-19 11:25:03,724 [INFO] Build features related to state type\n",
      "2022-06-19 11:25:03,785 [INFO] Build features related to date\n",
      "2022-06-19 11:25:03,854 [INFO] Build features related to latitude and longitude\n",
      "2022-06-19 11:25:03,870 [INFO] Build features related to distances\n",
      "2022-06-19 11:25:03,895 [INFO] Splitting in train and test\n",
      "2022-06-19 11:25:03,946 [INFO] Train preprocessor\n",
      "2022-06-19 11:25:06,289 [INFO] Tranforming features\n",
      "2022-06-19 11:25:08,868 [INFO] Exporting splitted dataset\n",
      "2022-06-19 11:25:10,221 [INFO] Export preprocessor artifacts\n"
     ]
    }
   ],
   "source": [
    "\n",
    "# Train the preprocess pipeline\n",
    "train_preprocessor(extract_data=False)\n",
    "\n",
    "# Otimizar parametros\n",
    "optimize_regressor()\n",
    "\n",
    "# train regressor model\n",
    "train_regressor()"
   ]
  },
  {
   "cell_type": "markdown",
   "id": "868185e4",
   "metadata": {},
   "source": [
    "# Predictions"
   ]
  },
  {
   "cell_type": "code",
   "execution_count": 2,
   "id": "d88a24a5",
   "metadata": {},
   "outputs": [],
   "source": [
    "preprocessor = get_preprocessor()\n",
    "regressor = get_regressor()"
   ]
  },
  {
   "cell_type": "code",
   "execution_count": 7,
   "id": "02b73cdb",
   "metadata": {},
   "outputs": [
    {
     "name": "stderr",
     "output_type": "stream",
     "text": [
      "2022-06-19 11:38:35,840 [INFO] Build features related to state type\n",
      "2022-06-19 11:38:35,848 [INFO] Build features related to date\n",
      "2022-06-19 11:38:35,860 [INFO] Build features related to latitude and longitude\n",
      "2022-06-19 11:38:35,869 [INFO] Build features related to distances\n"
     ]
    },
    {
     "data": {
      "text/plain": [
       "array([575313.75], dtype=float32)"
      ]
     },
     "execution_count": 7,
     "metadata": {},
     "output_type": "execute_result"
    }
   ],
   "source": [
    "fake_data = {\n",
    "    'type': 'HOME',\n",
    "    'n_parking_spaces': 4,\n",
    "    'n_bathrooms': 1,\n",
    "    'n_bedrooms': 2,\n",
    "    'area': 253,\n",
    "    'n_suites': 0,\n",
    "    'neighborhood': 'São João',\n",
    "    'n_floors': np.nan,\n",
    "    'units_on_floor': 0,\n",
    "    'state': 'MG',\n",
    "    'city': 'Poços de Caldas',\n",
    "    'street': None,\n",
    "    'longitude': np.nan,\n",
    "    'latitude': np.nan,\n",
    "    #'condo_fee': 800.0,\n",
    "    'iptu': 625.0,\n",
    "    'search_date': '2022-06-17'\n",
    "}\n",
    "\n",
    "from src.model.preprocessing import preprocess_transform\n",
    "\n",
    "x = preprocess_transform(fake_data)\n",
    "\n",
    "regressor.predict(x)"
   ]
  },
  {
   "cell_type": "markdown",
   "id": "919876fc",
   "metadata": {},
   "source": [
    "# Testes\n"
   ]
  },
  {
   "cell_type": "code",
   "execution_count": 13,
   "id": "12b56e65",
   "metadata": {},
   "outputs": [],
   "source": [
    "from src.model.features import build_features\n",
    "from src.model.data import (\n",
    "    get_train_dataset,\n",
    "    add_external_data\n",
    ")"
   ]
  },
  {
   "cell_type": "code",
   "execution_count": 14,
   "id": "c73f53e2",
   "metadata": {},
   "outputs": [
    {
     "name": "stderr",
     "output_type": "stream",
     "text": [
      "2022-06-19 08:49:29,311 [INFO] Build features related to state type\n",
      "2022-06-19 08:49:29,360 [INFO] Build features related to date\n",
      "2022-06-19 08:49:29,420 [INFO] Build features related to latitude and longitude\n",
      "2022-06-19 08:49:29,432 [INFO] Build features related to distances\n"
     ]
    }
   ],
   "source": [
    "extract_data = False\n",
    "\n",
    "data_config = load_yaml(filename=\"config/filepaths.yaml\")\n",
    "features_config = load_yaml(filename=\"config/features.yaml\")\n",
    "\n",
    "raw_scrapped_features, y = get_train_dataset(data_config, extract_data=extract_data)\n",
    "raw_scrapped_features = add_external_data(raw_scrapped_features, data_config)\n",
    "\n",
    "X = build_features(raw_scrapped_features)"
   ]
  },
  {
   "cell_type": "code",
   "execution_count": 18,
   "id": "22375af6",
   "metadata": {},
   "outputs": [],
   "source": [
    "pd.options.display.max_columns = None"
   ]
  },
  {
   "cell_type": "code",
   "execution_count": 54,
   "id": "10036396",
   "metadata": {},
   "outputs": [
    {
     "data": {
      "image/png": "[encoded data removed]",
      "text/plain": [
       "<Figure size 432x288 with 1 Axes>"
      ]
     },
     "metadata": {
      "needs_background": "light"
     },
     "output_type": "display_data"
    }
   ],
   "source": [
    "temp = X['iptu'].replace(0,np.nan)\n",
    "temp[temp>10].hist(bins=400)\n",
    "\n",
    "# plt.xlim([0,5000])\n",
    "plt.show()"
   ]
  },
  {
   "cell_type": "code",
   "execution_count": 52,
   "id": "d1bd10f4",
   "metadata": {},
   "outputs": [
    {
     "data": {
      "text/plain": [
       "0.05      43.0\n",
       "0.95    3000.0\n",
       "Name: iptu, dtype: float64"
      ]
     },
     "execution_count": 52,
     "metadata": {},
     "output_type": "execute_result"
    }
   ],
   "source": [
    "temp.quantile([0.05,0.95])"
   ]
  },
  {
   "cell_type": "code",
   "execution_count": 26,
   "id": "745d9049",
   "metadata": {},
   "outputs": [
    {
     "data": {
      "image/png": "[encoded data removed]",
      "text/plain": [
       "<Figure size 432x288 with 1 Axes>"
      ]
     },
     "metadata": {
      "needs_background": "light"
     },
     "output_type": "display_data"
    }
   ],
   "source": [
    "X['iptu'].replace(0,np.nan).hist(bins=100)\n",
    "\n",
    "plt.show()"
   ]
  },
  {
   "cell_type": "code",
   "execution_count": 19,
   "id": "f3b038c1",
   "metadata": {},
   "outputs": [
    {
     "data": {
      "text/html": [
       "<div>\n",
       "<style scoped>\n",
       "    .dataframe tbody tr th:only-of-type {\n",
       "        vertical-align: middle;\n",
       "    }\n",
       "\n",
       "    .dataframe tbody tr th {\n",
       "        vertical-align: top;\n",
       "    }\n",
       "\n",
       "    .dataframe thead th {\n",
       "        text-align: right;\n",
       "    }\n",
       "</style>\n",
       "<table border=\"1\" class=\"dataframe\">\n",
       "  <thead>\n",
       "    <tr style=\"text-align: right;\">\n",
       "      <th></th>\n",
       "      <th>id</th>\n",
       "      <th>search_id</th>\n",
       "      <th>id_zap</th>\n",
       "      <th>type</th>\n",
       "      <th>n_parking_spaces</th>\n",
       "      <th>n_bathrooms</th>\n",
       "      <th>n_bedrooms</th>\n",
       "      <th>area</th>\n",
       "      <th>n_floors</th>\n",
       "      <th>units_on_floor</th>\n",
       "      <th>n_suites</th>\n",
       "      <th>state</th>\n",
       "      <th>city</th>\n",
       "      <th>neighborhood</th>\n",
       "      <th>street</th>\n",
       "      <th>longitude</th>\n",
       "      <th>latitude</th>\n",
       "      <th>condo_fee</th>\n",
       "      <th>iptu</th>\n",
       "      <th>resale</th>\n",
       "      <th>buildings</th>\n",
       "      <th>plan_only</th>\n",
       "      <th>search_date</th>\n",
       "      <th>neighbor_region</th>\n",
       "      <th>neighbor_latitude</th>\n",
       "      <th>neighbor_longitude</th>\n",
       "      <th>pop_2000</th>\n",
       "      <th>pop_2010</th>\n",
       "      <th>pop_2022_proj</th>\n",
       "      <th>pct_domicilios_por_sal_min_0</th>\n",
       "      <th>pct_domicilios_por_sal_min_0_0.5</th>\n",
       "      <th>pct_domicilios_por_sal_min_0.5_1</th>\n",
       "      <th>pct_domicilios_por_sal_min_1_2</th>\n",
       "      <th>pct_domicilios_por_sal_min_2_5</th>\n",
       "      <th>pct_domicilios_por_sal_min_5_10</th>\n",
       "      <th>pct_domicilios_por_sal_min_10_20</th>\n",
       "      <th>pct_domicilios_por_sal_min_20_inf</th>\n",
       "      <th>neighbor_avg_income</th>\n",
       "      <th>taxa_alfabetizacao_bairro</th>\n",
       "      <th>type_APARTMENT</th>\n",
       "      <th>type_HOME</th>\n",
       "      <th>type_ALLOTMENT_LAND</th>\n",
       "      <th>type_COUNTRY</th>\n",
       "      <th>time_delta</th>\n",
       "      <th>year</th>\n",
       "      <th>month</th>\n",
       "      <th>day</th>\n",
       "      <th>dist_manh</th>\n",
       "      <th>dist_square</th>\n",
       "      <th>dist</th>\n",
       "    </tr>\n",
       "  </thead>\n",
       "  <tbody>\n",
       "    <tr>\n",
       "      <th>0</th>\n",
       "      <td>1</td>\n",
       "      <td>2503300374__2021_06_04_00_23_37</td>\n",
       "      <td>2503300374</td>\n",
       "      <td>HOME</td>\n",
       "      <td>2.0</td>\n",
       "      <td>3.0</td>\n",
       "      <td>3.0</td>\n",
       "      <td>100.0</td>\n",
       "      <td>NaN</td>\n",
       "      <td>0</td>\n",
       "      <td>1.0</td>\n",
       "      <td>MG</td>\n",
       "      <td>Poços de Caldas</td>\n",
       "      <td>jardim_das_hortensias</td>\n",
       "      <td>None</td>\n",
       "      <td>-46.539132</td>\n",
       "      <td>-21.808408</td>\n",
       "      <td>NaN</td>\n",
       "      <td>NaN</td>\n",
       "      <td>0</td>\n",
       "      <td>0</td>\n",
       "      <td>0</td>\n",
       "      <td>2021-06-04</td>\n",
       "      <td>Região Urbana Homogênea XX</td>\n",
       "      <td>-21.808408</td>\n",
       "      <td>-46.539132</td>\n",
       "      <td>527.0</td>\n",
       "      <td>2534.0</td>\n",
       "      <td>4942.0</td>\n",
       "      <td>0.001229</td>\n",
       "      <td>0.028256</td>\n",
       "      <td>0.079853</td>\n",
       "      <td>0.37715</td>\n",
       "      <td>0.321867</td>\n",
       "      <td>0.142506</td>\n",
       "      <td>0.028256</td>\n",
       "      <td>0.020885</td>\n",
       "      <td>1836.92</td>\n",
       "      <td>99.1</td>\n",
       "      <td>0.0</td>\n",
       "      <td>1.0</td>\n",
       "      <td>0.0</td>\n",
       "      <td>0.0</td>\n",
       "      <td>154</td>\n",
       "      <td>2021</td>\n",
       "      <td>6</td>\n",
       "      <td>4</td>\n",
       "      <td>0.046343</td>\n",
       "      <td>0.001119</td>\n",
       "      <td>0.033459</td>\n",
       "    </tr>\n",
       "    <tr>\n",
       "      <th>1</th>\n",
       "      <td>4</td>\n",
       "      <td>2500808474__2021_06_04_00_23_40</td>\n",
       "      <td>2500808474</td>\n",
       "      <td>HOME</td>\n",
       "      <td>2.0</td>\n",
       "      <td>3.0</td>\n",
       "      <td>2.0</td>\n",
       "      <td>130.0</td>\n",
       "      <td>NaN</td>\n",
       "      <td>0</td>\n",
       "      <td>2.0</td>\n",
       "      <td>MG</td>\n",
       "      <td>Poços de Caldas</td>\n",
       "      <td>jardim_amaryllis</td>\n",
       "      <td>None</td>\n",
       "      <td>-46.541238</td>\n",
       "      <td>-21.805235</td>\n",
       "      <td>0.0</td>\n",
       "      <td>0.0</td>\n",
       "      <td>0</td>\n",
       "      <td>0</td>\n",
       "      <td>0</td>\n",
       "      <td>2021-06-04</td>\n",
       "      <td>Região Urbana Homogênea XX</td>\n",
       "      <td>-21.805235</td>\n",
       "      <td>-46.541238</td>\n",
       "      <td>527.0</td>\n",
       "      <td>2534.0</td>\n",
       "      <td>4942.0</td>\n",
       "      <td>0.001229</td>\n",
       "      <td>0.028256</td>\n",
       "      <td>0.079853</td>\n",
       "      <td>0.37715</td>\n",
       "      <td>0.321867</td>\n",
       "      <td>0.142506</td>\n",
       "      <td>0.028256</td>\n",
       "      <td>0.020885</td>\n",
       "      <td>1836.92</td>\n",
       "      <td>99.1</td>\n",
       "      <td>0.0</td>\n",
       "      <td>1.0</td>\n",
       "      <td>0.0</td>\n",
       "      <td>0.0</td>\n",
       "      <td>154</td>\n",
       "      <td>2021</td>\n",
       "      <td>6</td>\n",
       "      <td>4</td>\n",
       "      <td>0.041064</td>\n",
       "      <td>0.000899</td>\n",
       "      <td>0.029991</td>\n",
       "    </tr>\n",
       "  </tbody>\n",
       "</table>\n",
       "</div>"
      ],
      "text/plain": [
       "   id                        search_id      id_zap  type  n_parking_spaces  \\\n",
       "0   1  2503300374__2021_06_04_00_23_37  2503300374  HOME               2.0   \n",
       "1   4  2500808474__2021_06_04_00_23_40  2500808474  HOME               2.0   \n",
       "\n",
       "   n_bathrooms  n_bedrooms   area  n_floors  units_on_floor  n_suites state  \\\n",
       "0          3.0         3.0  100.0       NaN               0       1.0    MG   \n",
       "1          3.0         2.0  130.0       NaN               0       2.0    MG   \n",
       "\n",
       "              city           neighborhood street  longitude   latitude  \\\n",
       "0  Poços de Caldas  jardim_das_hortensias   None -46.539132 -21.808408   \n",
       "1  Poços de Caldas       jardim_amaryllis   None -46.541238 -21.805235   \n",
       "\n",
       "   condo_fee  iptu  resale  buildings  plan_only search_date  \\\n",
       "0        NaN   NaN       0          0          0  2021-06-04   \n",
       "1        0.0   0.0       0          0          0  2021-06-04   \n",
       "\n",
       "              neighbor_region  neighbor_latitude  neighbor_longitude  \\\n",
       "0  Região Urbana Homogênea XX         -21.808408          -46.539132   \n",
       "1  Região Urbana Homogênea XX         -21.805235          -46.541238   \n",
       "\n",
       "   pop_2000  pop_2010  pop_2022_proj  pct_domicilios_por_sal_min_0  \\\n",
       "0     527.0    2534.0         4942.0                      0.001229   \n",
       "1     527.0    2534.0         4942.0                      0.001229   \n",
       "\n",
       "   pct_domicilios_por_sal_min_0_0.5  pct_domicilios_por_sal_min_0.5_1  \\\n",
       "0                          0.028256                          0.079853   \n",
       "1                          0.028256                          0.079853   \n",
       "\n",
       "   pct_domicilios_por_sal_min_1_2  pct_domicilios_por_sal_min_2_5  \\\n",
       "0                         0.37715                        0.321867   \n",
       "1                         0.37715                        0.321867   \n",
       "\n",
       "   pct_domicilios_por_sal_min_5_10  pct_domicilios_por_sal_min_10_20  \\\n",
       "0                         0.142506                          0.028256   \n",
       "1                         0.142506                          0.028256   \n",
       "\n",
       "   pct_domicilios_por_sal_min_20_inf  neighbor_avg_income  \\\n",
       "0                           0.020885              1836.92   \n",
       "1                           0.020885              1836.92   \n",
       "\n",
       "   taxa_alfabetizacao_bairro  type_APARTMENT  type_HOME  type_ALLOTMENT_LAND  \\\n",
       "0                       99.1             0.0        1.0                  0.0   \n",
       "1                       99.1             0.0        1.0                  0.0   \n",
       "\n",
       "   type_COUNTRY  time_delta  year  month  day  dist_manh  dist_square  \\\n",
       "0           0.0         154  2021      6    4   0.046343     0.001119   \n",
       "1           0.0         154  2021      6    4   0.041064     0.000899   \n",
       "\n",
       "       dist  \n",
       "0  0.033459  \n",
       "1  0.029991  "
      ]
     },
     "execution_count": 19,
     "metadata": {},
     "output_type": "execute_result"
    }
   ],
   "source": [
    "X.head(2)"
   ]
  },
  {
   "cell_type": "code",
   "execution_count": null,
   "id": "bc967af3",
   "metadata": {},
   "outputs": [],
   "source": []
  },
  {
   "cell_type": "code",
   "execution_count": null,
   "id": "ac0f13fd",
   "metadata": {},
   "outputs": [],
   "source": []
  }
 ],
 "metadata": {
  "kernelspec": {
   "display_name": "Python 3.8.13 ('venv': venv)",
   "language": "python",
   "name": "python3"
  },
  "language_info": {
   "codemirror_mode": {
    "name": "ipython",
    "version": 3
   },
   "file_extension": ".py",
   "mimetype": "text/x-python",
   "name": "python",
   "nbconvert_exporter": "python",
   "pygments_lexer": "ipython3",
   "version": "3.8.13"
  },
  "vscode": {
   "interpreter": {
    "hash": "e569101ec9df3490580317012055fcfbc97224dadfe7e02173bbd8c1906ed454"
   }
  }
 },
 "nbformat": 4,
 "nbformat_minor": 5
}
